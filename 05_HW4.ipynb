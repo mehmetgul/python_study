{
  "cells": [
    {
      "cell_type": "markdown",
      "metadata": {
        "id": "view-in-github",
        "colab_type": "text"
      },
      "source": [
        "<a href=\"https://colab.research.google.com/github/mehmetgul/python_study/blob/main/05_HW4.ipynb\" target=\"_parent\"><img src=\"https://colab.research.google.com/assets/colab-badge.svg\" alt=\"Open In Colab\"/></a>"
      ]
    },
    {
      "cell_type": "markdown",
      "id": "b6249847-cddc-4576-be24-317bbbbb40a9",
      "metadata": {
        "id": "b6249847-cddc-4576-be24-317bbbbb40a9"
      },
      "source": [
        "**Q1** Implement the six functions defined in the code editor.\n",
        "\n",
        "- check_equal(x, y) should return whether x is equal to y.\n",
        "- check_not_equal(x, y) should return whether x is not equal to y.\n",
        "- check_less_than(x, y) should return whether x is less than y.\n",
        "- check_greater_than(x, y) should return whether x is greater than y.\n",
        "- check_less_than_or_equal(x, y) should return whether x is less than or equal to y.\n",
        "- check_greater_than_or_equal(x, y) should return whether x is greater than or equal to y.\n",
        "\n",
        "You may assume your functions will only receive integers as input.\n",
        "\n"
      ]
    },
    {
      "cell_type": "code",
      "execution_count": 4,
      "id": "848f7d25-d136-4e89-94d2-a7d42e3fd3f5",
      "metadata": {
        "colab": {
          "base_uri": "https://localhost:8080/"
        },
        "id": "848f7d25-d136-4e89-94d2-a7d42e3fd3f5",
        "outputId": "367b8243-1c79-4dd9-cf61-7ee402bd0a4e"
      },
      "outputs": [
        {
          "output_type": "stream",
          "name": "stdout",
          "text": [
            "True\n",
            "False\n",
            "False\n",
            "True\n",
            "True\n",
            "False\n",
            "True\n",
            "False\n",
            "True\n",
            "False\n",
            "False\n",
            "True\n"
          ]
        }
      ],
      "source": [
        "# check_equal(x, y) should return whether x is equal to y.\n",
        "def check_equal(x, y):\n",
        "    return x == y\n",
        "print(check_equal(5, 5))  # True\n",
        "print(check_equal(5, 10))  # False\n",
        "# check_not_equal(x, y) should return whether x is not equal to y.\n",
        "def check_not_equal(x, y):\n",
        "    return x != y\n",
        "print(check_not_equal(5, 5))  # False\n",
        "print(check_not_equal(5, 10))  # True\n",
        "# check_less_than(x, y) should return whether x is less than y.\n",
        "def check_less_than(x, y):\n",
        "    return x < y\n",
        "print(check_less_than(5, 10))  # True\n",
        "print(check_less_than(10, 5))  # False\n",
        "# check_greater_than(x, y) should return whether x is greater than y.\n",
        "def check_greater_than(x, y):\n",
        "    return x > y\n",
        "print(check_greater_than(10, 5))  # True\n",
        "print(check_greater_than(5, 10))  # False\n",
        "# check_less_than_or_equal(x, y) should return whether x is less than or equal to y\n",
        "def check_less_than_or_equal(x, y):\n",
        "    return x <= y\n",
        "print(check_less_than_or_equal(5, 10))  # True\n",
        "print(check_less_than_or_equal(10, 5))  # False\n",
        "\n",
        "# check_greater_than_or_equal(x, y) should return whether x is greater than or equal to y.\n",
        "def check_greater_than_or_equal(x, y):\n",
        "    return x >= y\n",
        "print(check_greater_than_or_equal(5, 10))  # False\n",
        "print(check_greater_than_or_equal(10, 5))  # True"
      ]
    },
    {
      "cell_type": "markdown",
      "id": "8ede5e9b-619d-4490-821b-72d91f37c8fd",
      "metadata": {
        "id": "8ede5e9b-619d-4490-821b-72d91f37c8fd"
      },
      "source": [
        "**Q2** Implement the `is_balance_low(balance)` function.\\\n",
        "If the balance is less than or equal to 100, it should\\\n",
        "print `\"Warning: Low balance.\"`. Otherwise, it should not print anything."
      ]
    },
    {
      "cell_type": "code",
      "execution_count": 6,
      "id": "e52c7e92-a2a4-4598-abf4-05cb2c6600b8",
      "metadata": {
        "colab": {
          "base_uri": "https://localhost:8080/"
        },
        "id": "e52c7e92-a2a4-4598-abf4-05cb2c6600b8",
        "outputId": "83b813e2-754d-48ef-b927-1a2fb0c6d4bf"
      },
      "outputs": [
        {
          "output_type": "stream",
          "name": "stdout",
          "text": [
            "Warning: Low balance.\n"
          ]
        }
      ],
      "source": [
        "def is_balance_low(balance):\n",
        "    if balance <= 100:\n",
        "        print(\"Warning: Low balance.\")\n",
        "\n",
        "is_balance_low(50)\n",
        "is_balance_low(150)"
      ]
    },
    {
      "cell_type": "markdown",
      "id": "4fe934ab-cb5d-4dec-b082-90d163d82bc3",
      "metadata": {
        "id": "4fe934ab-cb5d-4dec-b082-90d163d82bc3"
      },
      "source": [
        "**Q3** Implement the `pay_bill(balance, bill)`function.\\\n",
        "It accepts two parameters, `balance` and `bill`, where\\\n",
        "balance is the current account balance and bill is\\\n",
        "the amount of the bill that needs to be paid.\n",
        "\n",
        "If the balance is greater than or equal to the bill,\\\n",
        "the function should return the new balance after\\\n",
        "subtracting the bill from the balance. Otherwise,\\\n",
        "the function should return the balance without making any changes."
      ]
    },
    {
      "cell_type": "code",
      "execution_count": 8,
      "id": "d7da5c9f-a0f1-48b6-9946-0280219d7aff",
      "metadata": {
        "colab": {
          "base_uri": "https://localhost:8080/"
        },
        "id": "d7da5c9f-a0f1-48b6-9946-0280219d7aff",
        "outputId": "b32244b1-f1d8-444b-c674-15367af735e7"
      },
      "outputs": [
        {
          "output_type": "stream",
          "name": "stdout",
          "text": [
            "50\n",
            "75\n",
            "200\n",
            "150\n"
          ]
        }
      ],
      "source": [
        "def pay_bill(balance, bill):\n",
        "    if balance >= bill:\n",
        "        return balance - bill\n",
        "    else:\n",
        "        return balance\n",
        "\n",
        "print(pay_bill(100, 50))  # 50\n",
        "print(pay_bill(75, 100))  # 75\n",
        "print(pay_bill(200, 250))  # 200\n",
        "print(pay_bill(150, 200))  # 150\n"
      ]
    },
    {
      "cell_type": "markdown",
      "id": "2393f2dd-6c79-4148-b36d-e72fd3f7b930",
      "metadata": {
        "id": "2393f2dd-6c79-4148-b36d-e72fd3f7b930"
      },
      "source": [
        "**Q4** Implement the `get_min(a, b`  function in the code editor.\\\n",
        "It should return the minimum of a and b. If they are equal,\\\n",
        "it doesn't matter which value you return."
      ]
    },
    {
      "cell_type": "code",
      "execution_count": 9,
      "id": "db046e90-8293-49e3-a79d-12895471dae8",
      "metadata": {
        "colab": {
          "base_uri": "https://localhost:8080/"
        },
        "id": "db046e90-8293-49e3-a79d-12895471dae8",
        "outputId": "45c1614f-0035-4525-a2df-bbd5b540fe43"
      },
      "outputs": [
        {
          "output_type": "stream",
          "name": "stdout",
          "text": [
            "5\n",
            "5\n",
            "5\n"
          ]
        }
      ],
      "source": [
        "def get_min(a, b):\n",
        "    if a < b:\n",
        "        return a\n",
        "    else:\n",
        "        return b\n",
        "\n",
        "print(get_min(5, 10))  # 5\n",
        "print(get_min(10, 5))  # 5\n",
        "print(get_min(5, 5))  # 5"
      ]
    },
    {
      "cell_type": "markdown",
      "id": "de79a207-e832-4596-852f-832fc90b663a",
      "metadata": {
        "id": "de79a207-e832-4596-852f-832fc90b663a"
      },
      "source": [
        "**Q5**  Using `if`, `elif` and `else`, implement\\\n",
        "the function called c`heck_range(num)`.\n",
        "\n",
        "- If num is less than 0, return the string \"negative\".\n",
        "- If num is 0 return the string \"zero\".\n",
        "- If num is greater than 0 and less than 10, return the string \"positive single digit\".\n",
        "- If num is greater than or equal to 10, return the string \"positive multi digit\".\n"
      ]
    },
    {
      "cell_type": "code",
      "execution_count": 10,
      "id": "f5b3e4ee-7c7f-49d7-b7b4-8188d7386fc4",
      "metadata": {
        "colab": {
          "base_uri": "https://localhost:8080/"
        },
        "id": "f5b3e4ee-7c7f-49d7-b7b4-8188d7386fc4",
        "outputId": "ea31c49d-843b-4c7c-9492-ffa3d5f86948"
      },
      "outputs": [
        {
          "output_type": "stream",
          "name": "stdout",
          "text": [
            "negative\n",
            "zero\n",
            "positive single digit\n",
            "positive multi digit\n"
          ]
        }
      ],
      "source": [
        "def check_range(num):\n",
        "    if num < 0:\n",
        "        return \"negative\"\n",
        "    elif num == 0:\n",
        "        return \"zero\"\n",
        "    elif num > 0 and num < 10:\n",
        "        return \"positive single digit\"\n",
        "    else:\n",
        "        return \"positive multi digit\"\n",
        "\n",
        "print(check_range(-5))  # negative\n",
        "print(check_range(0))  # zero\n",
        "print(check_range(5))  # positive single digit\n",
        "print(check_range(15))  # positive multi digit"
      ]
    },
    {
      "cell_type": "markdown",
      "id": "8de62094-b4c5-4baa-a6d5-e6e753b60aec",
      "metadata": {
        "id": "8de62094-b4c5-4baa-a6d5-e6e753b60aec"
      },
      "source": [
        "**Q6** Implement the `discount_applies(age)` function.\\\n",
        "It accepts an integer age and should return `True`\\\n",
        "if the age is less than 18, or the age is greater\\\n",
        "than or equal to 65. Otherwise, it should return `False`."
      ]
    },
    {
      "cell_type": "code",
      "execution_count": 11,
      "id": "1da7412c-6546-457d-8efc-bd046de159cc",
      "metadata": {
        "colab": {
          "base_uri": "https://localhost:8080/"
        },
        "id": "1da7412c-6546-457d-8efc-bd046de159cc",
        "outputId": "7dc776ed-8a1d-4364-8bd9-67fc433bc8df"
      },
      "outputs": [
        {
          "output_type": "stream",
          "name": "stdout",
          "text": [
            "True\n",
            "False\n",
            "True\n",
            "True\n"
          ]
        }
      ],
      "source": [
        "def discount_applies(age):\n",
        "    if age < 18 or age >= 65:\n",
        "        return True\n",
        "    else:\n",
        "        return False\n",
        "\n",
        "print(discount_applies(15))  # True\n",
        "print(discount_applies(25))  # False\n",
        "print(discount_applies(65))  # True\n",
        "print(discount_applies(70))  # True"
      ]
    },
    {
      "cell_type": "markdown",
      "id": "67653e9b-ad02-4ca4-b307-b97c184a7b42",
      "metadata": {
        "id": "67653e9b-ad02-4ca4-b307-b97c184a7b42"
      },
      "source": [
        "**Q7** Implement the function `is_truthy()` that returns `\"Truthy\"`\\\n",
        "if the value is truthy, and returns `\"Falsy\"` if the value is falsy.\\\n",
        "The parameter value can be any type of value."
      ]
    },
    {
      "cell_type": "code",
      "execution_count": 12,
      "id": "8386f2bb-edfe-4564-9605-7ac35713b392",
      "metadata": {
        "colab": {
          "base_uri": "https://localhost:8080/"
        },
        "id": "8386f2bb-edfe-4564-9605-7ac35713b392",
        "outputId": "ad9e2e6e-8451-4a71-ab16-c0dd17fb9738"
      },
      "outputs": [
        {
          "output_type": "stream",
          "name": "stdout",
          "text": [
            "Truthy\n",
            "Falsy\n",
            "Truthy\n",
            "Falsy\n"
          ]
        }
      ],
      "source": [
        "def is_truthy(value):\n",
        "    if value:\n",
        "        return \"Truthy\"\n",
        "    else:\n",
        "        return \"Falsy\"\n",
        "\n",
        "print(is_truthy(True))  # \"Truthy\"\n",
        "print(is_truthy(False))  # \"Falsy\"\n",
        "print(is_truthy(5))  # \"Truthy\"\n",
        "print(is_truthy(0))  # \"Falsy\""
      ]
    },
    {
      "cell_type": "code",
      "source": [],
      "metadata": {
        "id": "3tNlEKpvOtyE"
      },
      "id": "3tNlEKpvOtyE",
      "execution_count": null,
      "outputs": []
    }
  ],
  "metadata": {
    "kernelspec": {
      "display_name": "Python 3 (ipykernel)",
      "language": "python",
      "name": "python3"
    },
    "language_info": {
      "codemirror_mode": {
        "name": "ipython",
        "version": 3
      },
      "file_extension": ".py",
      "mimetype": "text/x-python",
      "name": "python",
      "nbconvert_exporter": "python",
      "pygments_lexer": "ipython3",
      "version": "3.11.4"
    },
    "colab": {
      "provenance": [],
      "include_colab_link": true
    }
  },
  "nbformat": 4,
  "nbformat_minor": 5
}