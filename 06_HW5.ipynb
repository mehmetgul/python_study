{
  "cells": [
    {
      "cell_type": "markdown",
      "metadata": {
        "id": "view-in-github",
        "colab_type": "text"
      },
      "source": [
        "<a href=\"https://colab.research.google.com/github/mehmetgul/python_study/blob/main/06_HW5.ipynb\" target=\"_parent\"><img src=\"https://colab.research.google.com/assets/colab-badge.svg\" alt=\"Open In Colab\"/></a>"
      ]
    },
    {
      "cell_type": "markdown",
      "id": "92525a92-7984-4d6d-a499-8d841d41b154",
      "metadata": {
        "id": "92525a92-7984-4d6d-a499-8d841d41b154"
      },
      "source": [
        "**Q1**: Use a loop to print \"I know how to use while loops\" exactly 12 times."
      ]
    },
    {
      "cell_type": "code",
      "execution_count": 1,
      "id": "2897c719-96f6-4828-bae4-368ceed33f3d",
      "metadata": {
        "colab": {
          "base_uri": "https://localhost:8080/"
        },
        "id": "2897c719-96f6-4828-bae4-368ceed33f3d",
        "outputId": "2d743adf-cd1e-4894-c791-af7c08ed8d26"
      },
      "outputs": [
        {
          "output_type": "stream",
          "name": "stdout",
          "text": [
            "I know how to use while loops\n",
            "I know how to use while loops\n",
            "I know how to use while loops\n",
            "I know how to use while loops\n",
            "I know how to use while loops\n",
            "I know how to use while loops\n",
            "I know how to use while loops\n",
            "I know how to use while loops\n",
            "I know how to use while loops\n",
            "I know how to use while loops\n",
            "I know how to use while loops\n",
            "I know how to use while loops\n"
          ]
        }
      ],
      "source": [
        "for i in range(12):\n",
        "    print(\"I know how to use while loops\")"
      ]
    },
    {
      "cell_type": "markdown",
      "id": "265182d9-7484-45f2-908b-aace630b4f71",
      "metadata": {
        "id": "265182d9-7484-45f2-908b-aace630b4f71"
      },
      "source": [
        "**Q2**: Can you use a while loop to print the\\\n",
        "digits from 0 to 9 in order (including 0 and 9)?\\\n",
        "Your loop should execute 10 times.\n"
      ]
    },
    {
      "cell_type": "code",
      "execution_count": 2,
      "id": "c8ac4534-ec2d-40c5-9473-c1583be4fc3e",
      "metadata": {
        "colab": {
          "base_uri": "https://localhost:8080/"
        },
        "id": "c8ac4534-ec2d-40c5-9473-c1583be4fc3e",
        "outputId": "ab675503-f762-4e92-8468-6f2b1a53c2fd"
      },
      "outputs": [
        {
          "output_type": "stream",
          "name": "stdout",
          "text": [
            "0\n",
            "1\n",
            "2\n",
            "3\n",
            "4\n",
            "5\n",
            "6\n",
            "7\n",
            "8\n",
            "9\n"
          ]
        }
      ],
      "source": [
        "i = 0\n",
        "while i < 10:\n",
        "    print(i)\n",
        "    i += 1"
      ]
    },
    {
      "cell_type": "markdown",
      "id": "6c079f61-2730-479b-a450-2d9597121f62",
      "metadata": {
        "id": "6c079f61-2730-479b-a450-2d9597121f62"
      },
      "source": [
        "**Q3** Can you use a while loop to print all multiples of 10 from 10 to 90 in order (including 10 and 90)?"
      ]
    },
    {
      "cell_type": "code",
      "execution_count": 3,
      "id": "d4745404-d4c4-4426-b774-5fe128f32d74",
      "metadata": {
        "colab": {
          "base_uri": "https://localhost:8080/"
        },
        "id": "d4745404-d4c4-4426-b774-5fe128f32d74",
        "outputId": "c437d814-cf5c-4c9d-86a6-e6443439714b"
      },
      "outputs": [
        {
          "output_type": "stream",
          "name": "stdout",
          "text": [
            "10\n",
            "20\n",
            "30\n",
            "40\n",
            "50\n",
            "60\n",
            "70\n",
            "80\n",
            "90\n"
          ]
        }
      ],
      "source": [
        "i = 10\n",
        "while i <= 90:\n",
        "    print(i)\n",
        "    i += 10"
      ]
    },
    {
      "cell_type": "markdown",
      "id": "5da98060-299b-4ab8-809f-bcb7e79482f3",
      "metadata": {
        "id": "5da98060-299b-4ab8-809f-bcb7e79482f3"
      },
      "source": [
        "**Q4** Using a for loop, print the numbers 0 through 12, in order, including 0 and 12."
      ]
    },
    {
      "cell_type": "code",
      "execution_count": 4,
      "id": "abcfdae3-7ab0-4bbf-8a1a-06e3e42ace0f",
      "metadata": {
        "colab": {
          "base_uri": "https://localhost:8080/"
        },
        "id": "abcfdae3-7ab0-4bbf-8a1a-06e3e42ace0f",
        "outputId": "1905ebc6-3490-459e-d4c8-b03484c31f5d"
      },
      "outputs": [
        {
          "output_type": "stream",
          "name": "stdout",
          "text": [
            "0\n",
            "1\n",
            "2\n",
            "3\n",
            "4\n",
            "5\n",
            "6\n",
            "7\n",
            "8\n",
            "9\n",
            "10\n",
            "11\n",
            "12\n"
          ]
        }
      ],
      "source": [
        "for i in range(13):\n",
        "    print(i)"
      ]
    },
    {
      "cell_type": "markdown",
      "id": "6b87fa60-2b32-4690-95f1-5fd2176df643",
      "metadata": {
        "id": "6b87fa60-2b32-4690-95f1-5fd2176df643"
      },
      "source": [
        "**Q5** Using a for loop, print the numbers 10 through 20, in order, including 10 and 20."
      ]
    },
    {
      "cell_type": "code",
      "execution_count": 5,
      "id": "f8e84473-fceb-42bc-a074-8b9ef584a3ef",
      "metadata": {
        "colab": {
          "base_uri": "https://localhost:8080/"
        },
        "id": "f8e84473-fceb-42bc-a074-8b9ef584a3ef",
        "outputId": "0e6f454e-3a0f-4e19-9f22-79c9dc16bb9b"
      },
      "outputs": [
        {
          "output_type": "stream",
          "name": "stdout",
          "text": [
            "10\n",
            "11\n",
            "12\n",
            "13\n",
            "14\n",
            "15\n",
            "16\n",
            "17\n",
            "18\n",
            "19\n",
            "20\n"
          ]
        }
      ],
      "source": [
        "for i in range(10, 21):\n",
        "    print(i)"
      ]
    },
    {
      "cell_type": "markdown",
      "id": "9f496a75-6b06-4c70-9b50-2ae257d21edb",
      "metadata": {
        "id": "9f496a75-6b06-4c70-9b50-2ae257d21edb"
      },
      "source": [
        "**Q6** Using a for loop, print all multiples of 10 from 0 to 100, in order,\n",
        "including 0 and 100."
      ]
    },
    {
      "cell_type": "code",
      "execution_count": 6,
      "id": "27830646-c091-4140-a809-018f64cf3a20",
      "metadata": {
        "colab": {
          "base_uri": "https://localhost:8080/"
        },
        "id": "27830646-c091-4140-a809-018f64cf3a20",
        "outputId": "3ca37fe0-2f63-4e27-d07f-9ae8e29aa08a"
      },
      "outputs": [
        {
          "output_type": "stream",
          "name": "stdout",
          "text": [
            "0\n",
            "10\n",
            "20\n",
            "30\n",
            "40\n",
            "50\n",
            "60\n",
            "70\n",
            "80\n",
            "90\n",
            "100\n"
          ]
        }
      ],
      "source": [
        "for i in range(0, 101, 10):\n",
        "    print(i)"
      ]
    },
    {
      "cell_type": "markdown",
      "id": "200bc0f8-9248-432f-af56-e6cd686ed58f",
      "metadata": {
        "id": "200bc0f8-9248-432f-af56-e6cd686ed58f"
      },
      "source": [
        "**Q7** Using a for loop, print the numbers 20 through 10, in reverse order, including 20 and 10."
      ]
    },
    {
      "cell_type": "code",
      "execution_count": 7,
      "id": "baa55e7b-298e-46cc-b841-b5143c932d19",
      "metadata": {
        "colab": {
          "base_uri": "https://localhost:8080/"
        },
        "id": "baa55e7b-298e-46cc-b841-b5143c932d19",
        "outputId": "7a8db839-3dc7-4add-9ff7-da69e1007ccb"
      },
      "outputs": [
        {
          "output_type": "stream",
          "name": "stdout",
          "text": [
            "20\n",
            "19\n",
            "18\n",
            "17\n",
            "16\n",
            "15\n",
            "14\n",
            "13\n",
            "12\n",
            "11\n",
            "10\n"
          ]
        }
      ],
      "source": [
        "for i in range(20, 9, -1):\n",
        "    print(i)"
      ]
    },
    {
      "cell_type": "markdown",
      "id": "442034d4-95fb-45a5-858e-8a0ef5f03cd7",
      "metadata": {
        "id": "442034d4-95fb-45a5-858e-8a0ef5f03cd7"
      },
      "source": [
        "**Q8** Using nested loops, print all pairs of numbers from 3, 4, 5, where the order of each pair matters."
      ]
    },
    {
      "cell_type": "code",
      "execution_count": 10,
      "id": "1f268a36-9c3d-4f57-b6e1-4470cd2a8e30",
      "metadata": {
        "colab": {
          "base_uri": "https://localhost:8080/"
        },
        "id": "1f268a36-9c3d-4f57-b6e1-4470cd2a8e30",
        "outputId": "a41005e0-cae8-4bed-8cc0-de0b2f3d3e19"
      },
      "outputs": [
        {
          "output_type": "stream",
          "name": "stdout",
          "text": [
            "3 4\n",
            "3 5\n",
            "4 5\n"
          ]
        }
      ],
      "source": [
        "for i in range(3, 6):\n",
        "    for j in range(i+1, 6):\n",
        "        print(i, j)"
      ]
    },
    {
      "cell_type": "code",
      "source": [],
      "metadata": {
        "id": "WlSLohyRQ-_C"
      },
      "id": "WlSLohyRQ-_C",
      "execution_count": null,
      "outputs": []
    }
  ],
  "metadata": {
    "kernelspec": {
      "display_name": "Python 3 (ipykernel)",
      "language": "python",
      "name": "python3"
    },
    "language_info": {
      "codemirror_mode": {
        "name": "ipython",
        "version": 3
      },
      "file_extension": ".py",
      "mimetype": "text/x-python",
      "name": "python",
      "nbconvert_exporter": "python",
      "pygments_lexer": "ipython3",
      "version": "3.11.4"
    },
    "colab": {
      "provenance": [],
      "include_colab_link": true
    }
  },
  "nbformat": 4,
  "nbformat_minor": 5
}