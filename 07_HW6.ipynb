{
  "cells": [
    {
      "cell_type": "markdown",
      "metadata": {
        "id": "view-in-github",
        "colab_type": "text"
      },
      "source": [
        "<a href=\"https://colab.research.google.com/github/mehmetgul/python_study/blob/main/07_HW6.ipynb\" target=\"_parent\"><img src=\"https://colab.research.google.com/assets/colab-badge.svg\" alt=\"Open In Colab\"/></a>"
      ]
    },
    {
      "cell_type": "markdown",
      "id": "908b36b4-06e5-4306-9e48-4a8611e0a653",
      "metadata": {
        "id": "908b36b4-06e5-4306-9e48-4a8611e0a653"
      },
      "source": [
        "**Q1** Implement a function called `get_longer_word(word1, word2)`.\\\n",
        "It takes two words (strings) as parameters, and returns the\\\n",
        "longer word. If the words are the same length, return the first word."
      ]
    },
    {
      "cell_type": "code",
      "execution_count": 3,
      "id": "fce24313-8b20-442c-b628-02cd0ea50837",
      "metadata": {
        "colab": {
          "base_uri": "https://localhost:8080/"
        },
        "id": "fce24313-8b20-442c-b628-02cd0ea50837",
        "outputId": "2b720799-515c-4b81-889e-d7e2194fcf7e"
      },
      "outputs": [
        {
          "output_type": "stream",
          "name": "stdout",
          "text": [
            "hello\n",
            "hello\n",
            "goodbye\n",
            "beautiful\n"
          ]
        }
      ],
      "source": [
        "\n",
        "def get_longer_word(word1, word2):\n",
        "    if len(word1) > len(word2):\n",
        "        return word1\n",
        "    elif len(word2) > len(word1):\n",
        "        return word2\n",
        "    else:\n",
        "        return word1\n",
        "\n",
        "print(get_longer_word(\"hello\", \"world\"))\n",
        "print(get_longer_word(\"hello\", \"hello\"))\n",
        "print(get_longer_word(\"hello\", \"goodbye\"))\n",
        "print(get_longer_word(\"beautiful\", \"day\"))"
      ]
    },
    {
      "cell_type": "markdown",
      "id": "3c363014-72d0-4f2d-990f-f621a6a19ca6",
      "metadata": {
        "id": "3c363014-72d0-4f2d-990f-f621a6a19ca6"
      },
      "source": [
        "**Q2** Implement the three functions on the right as follows:\n",
        "\n",
        "- print_first_char(word: str) -> None should print\\\n",
        "  the first character of the word.\n",
        "- print_second_char(word: str) -> None should print\\\n",
        "  the second character of the word.\n",
        "- print_last_char(word: str) -> None should print\\\n",
        "  the last character of the word. (Hint: you will need the len() function.)\n",
        "\n",
        "You may assume that every word passed into your functions will have at least two characters."
      ]
    },
    {
      "cell_type": "code",
      "execution_count": 5,
      "id": "92146bd5-2e6f-44cc-8ab7-a843492b66db",
      "metadata": {
        "colab": {
          "base_uri": "https://localhost:8080/"
        },
        "id": "92146bd5-2e6f-44cc-8ab7-a843492b66db",
        "outputId": "646dc7ac-2ec0-474e-be82-bd3f6c62ff25"
      },
      "outputs": [
        {
          "output_type": "stream",
          "name": "stdout",
          "text": [
            "h\n",
            "e\n",
            "o\n"
          ]
        }
      ],
      "source": [
        "def print_first_char(word: str):\n",
        "    print(word[0])\n",
        "\n",
        "def print_second_char(word: str):\n",
        "    print(word[1])\n",
        "\n",
        "def print_last_char(word: str):\n",
        "    print(word[-1])\n",
        "\n",
        "print_first_char(\"hello\")\n",
        "print_second_char(\"hello\")\n",
        "print_last_char(\"hello\")"
      ]
    },
    {
      "cell_type": "markdown",
      "id": "ee4e88c1-a9b6-483c-b805-fe7ade9e2c6d",
      "metadata": {
        "id": "ee4e88c1-a9b6-483c-b805-fe7ade9e2c6d"
      },
      "source": [
        "**Q3** Implement a function called `print_string_characters(my_string)`. \\\n",
        "It takes a string as a parameter and prints each character of the string separately."
      ]
    },
    {
      "cell_type": "code",
      "execution_count": 6,
      "id": "693b3e64-ac47-43cf-9c0a-98c680be25da",
      "metadata": {
        "colab": {
          "base_uri": "https://localhost:8080/"
        },
        "id": "693b3e64-ac47-43cf-9c0a-98c680be25da",
        "outputId": "ac29edf2-38a2-4120-e58b-02b4bbd1b1a2"
      },
      "outputs": [
        {
          "output_type": "stream",
          "name": "stdout",
          "text": [
            "h\n",
            "e\n",
            "l\n",
            "l\n",
            "o\n"
          ]
        }
      ],
      "source": [
        "def print_string_characters(my_string):\n",
        "    for char in my_string:\n",
        "        print(char)\n",
        "\n",
        "print_string_characters(\"hello\")"
      ]
    },
    {
      "cell_type": "markdown",
      "id": "0c348a80-3328-4d48-960f-6641afb55124",
      "metadata": {
        "id": "0c348a80-3328-4d48-960f-6641afb55124"
      },
      "source": [
        "**Q4** Implement a function called `print_string_characters(word1, word2)`.\\\n",
        "It should print the characters of `word1` separately, and then print the\\\n",
        "characters of `word2` separately. Use the shorthand method to loop through\\\n",
        "each character in each word."
      ]
    },
    {
      "cell_type": "code",
      "execution_count": 7,
      "id": "976685ac-5f3e-4383-819b-9d951fff7006",
      "metadata": {
        "colab": {
          "base_uri": "https://localhost:8080/"
        },
        "id": "976685ac-5f3e-4383-819b-9d951fff7006",
        "outputId": "96cb031b-4600-4d89-d865-05b25b22f714"
      },
      "outputs": [
        {
          "output_type": "stream",
          "name": "stdout",
          "text": [
            "h\n",
            "e\n",
            "l\n",
            "l\n",
            "o\n",
            "w\n",
            "o\n",
            "r\n",
            "l\n",
            "d\n"
          ]
        }
      ],
      "source": [
        "def print_string_characters(word1, word2):\n",
        "    for char in word1:\n",
        "        print(char)\n",
        "    for char in word2:\n",
        "        print(char)\n",
        "\n",
        "print_string_characters(\"hello\", \"world\")"
      ]
    },
    {
      "cell_type": "markdown",
      "id": "4fcdf550-5192-4802-b976-567e34fe4803",
      "metadata": {
        "id": "4fcdf550-5192-4802-b976-567e34fe4803"
      },
      "source": [
        "**Q5** Implement the function `concatenate(s1, s2)`. It accepts two\\\n",
        "strings as parameters and returns a new string that is the\\\n",
        "concatenation of the two input strings. If the length of the\\\n",
        "string after concatenating them is greater than 10, return \"Too long!\".\n",
        "\n",
        "For example,\n",
        "\n",
        "- If you call `concatenate(\"Good \", \"job!\")`, it should return \"Good job!\".\n",
        "- If you call `concatenate(\"Goodbye, \", \"world!\")`, it should return \"Too long!\".\n"
      ]
    },
    {
      "cell_type": "code",
      "execution_count": 8,
      "id": "f029480c-af86-410a-8796-72830e264365",
      "metadata": {
        "colab": {
          "base_uri": "https://localhost:8080/"
        },
        "id": "f029480c-af86-410a-8796-72830e264365",
        "outputId": "a53cd734-15de-4c28-c0fd-4fd7d775bd72"
      },
      "outputs": [
        {
          "output_type": "stream",
          "name": "stdout",
          "text": [
            "Good job!\n",
            "Too long!\n"
          ]
        }
      ],
      "source": [
        "def concatenate(s1, s2):\n",
        "    new_string = s1 + s2\n",
        "    if len(new_string) > 10:\n",
        "        return \"Too long!\"\n",
        "    else:\n",
        "        return new_string\n",
        "\n",
        "print(concatenate(\"Good \", \"job!\"))\n",
        "print(concatenate(\"Goodbye, \", \"world!\"))"
      ]
    },
    {
      "cell_type": "markdown",
      "id": "67117631-76c7-44ef-bdb6-7cc5c3c15fd9",
      "metadata": {
        "id": "67117631-76c7-44ef-bdb6-7cc5c3c15fd9"
      },
      "source": [
        "**Q6** Implement a function called `get_substring(input_string, start, end)`.\\\n",
        "It takes a string and two integers as parameters, and returns the substring\\\n",
        "of `input_string` string from the `start` index to the `end` index (not including the end index).\n",
        "\n",
        "Important: If `end` is an invalid index, return an empty string.\\\n",
        "You may assume that `start` will always be a valid index and that\\\n",
        "end will always be greater than or equal to `start`.\n",
        "\n",
        "The last valid index for a slice is the length of the string.\\\n",
        "Remember that `end` is not included for a slice. The last\\\n",
        "character included will be at index `end - 1`."
      ]
    },
    {
      "cell_type": "code",
      "execution_count": 9,
      "id": "987b4539-8ce2-454a-8fd8-e211ce5a1dae",
      "metadata": {
        "colab": {
          "base_uri": "https://localhost:8080/"
        },
        "id": "987b4539-8ce2-454a-8fd8-e211ce5a1dae",
        "outputId": "041d2084-4f7a-4f19-890e-2804f6a20c35"
      },
      "outputs": [
        {
          "output_type": "stream",
          "name": "stdout",
          "text": [
            "ell\n",
            "ello\n"
          ]
        }
      ],
      "source": [
        "def get_substring(input_string, start, end):\n",
        "    if end > len(input_string):\n",
        "        return \"\"\n",
        "    else:\n",
        "        return input_string[start:end]\n",
        "\n",
        "print(get_substring(\"hello\", 1, 4))\n",
        "print(get_substring(\"hello\", 1, 5))"
      ]
    },
    {
      "cell_type": "markdown",
      "id": "57436ccb-997e-45dc-91a4-1542eb26a0fc",
      "metadata": {
        "id": "57436ccb-997e-45dc-91a4-1542eb26a0fc"
      },
      "source": [
        "**Q7** Implement the two functions as follows:\n",
        "\n",
        "- `first_n_characters(s, n)` should return a string with the first n characters from `s`.\\\n",
        "   You may assume that the length of `s` is greater than or equal to `n`.\n",
        "- `last_n_characters(s, n)` should return a string with the last `n`\\\n",
        "   characters from `s`. You may assume that the length of `s` is greater than or equal to `n`.\n",
        "\n",
        "Hint: If we want the last 1 character from a string `s`, we would start\\\n",
        "at `index = len(s) - 1`. If we want the last 2 characters,\\\n",
        "we would start at `index = len(s) - 2`."
      ]
    },
    {
      "cell_type": "code",
      "execution_count": 10,
      "id": "43491962-75d8-4ea8-aa90-bd399affb962",
      "metadata": {
        "colab": {
          "base_uri": "https://localhost:8080/"
        },
        "id": "43491962-75d8-4ea8-aa90-bd399affb962",
        "outputId": "b47397a0-6c4e-49d0-afdd-6c1cb1727d3f"
      },
      "outputs": [
        {
          "output_type": "stream",
          "name": "stdout",
          "text": [
            "he\n",
            "lo\n",
            "hello\n",
            "hello\n"
          ]
        }
      ],
      "source": [
        "def first_n_characters(s, n):\n",
        "    return s[:n]\n",
        "\n",
        "def last_n_characters(s, n):\n",
        "    return s[-n:]\n",
        "\n",
        "print(first_n_characters(\"hello\", 2))\n",
        "print(last_n_characters(\"hello\", 2))\n",
        "print(first_n_characters(\"hello\", 5))\n",
        "print(last_n_characters(\"hello\", 5))"
      ]
    },
    {
      "cell_type": "markdown",
      "id": "eeb3138a-5e53-44b0-8b0c-9bd1527e73e0",
      "metadata": {
        "id": "eeb3138a-5e53-44b0-8b0c-9bd1527e73e0"
      },
      "source": [
        "**Q8** Implement the function `reverse_string(input_string)`.\\\n",
        "It takes a string as a parameter and returns the reversed string."
      ]
    },
    {
      "cell_type": "code",
      "execution_count": 11,
      "id": "7bf04587-5fa9-4b18-8622-49ee36737097",
      "metadata": {
        "colab": {
          "base_uri": "https://localhost:8080/"
        },
        "id": "7bf04587-5fa9-4b18-8622-49ee36737097",
        "outputId": "65e57715-7980-4aa7-aa00-44caeab73845"
      },
      "outputs": [
        {
          "output_type": "stream",
          "name": "stdout",
          "text": [
            "olleh\n",
            "eybdoog\n"
          ]
        }
      ],
      "source": [
        "def reverse_string(input_string):\n",
        "    return input_string[::-1]\n",
        "\n",
        "print(reverse_string(\"hello\"))\n",
        "print(reverse_string(\"goodbye\"))"
      ]
    },
    {
      "cell_type": "markdown",
      "id": "b6845135-dfb3-4379-a589-7c9be63b8385",
      "metadata": {
        "id": "b6845135-dfb3-4379-a589-7c9be63b8385"
      },
      "source": [
        "**Q9** Implement the function `remove_fourth_character(word)`,\\\n",
        "which removes the fourth character from the string and returns\\\n",
        "the new string. You may assume that the length of the string is greater than 4."
      ]
    },
    {
      "cell_type": "code",
      "execution_count": 12,
      "id": "d1896163-d1a8-47cb-8d87-7a7e676afd78",
      "metadata": {
        "colab": {
          "base_uri": "https://localhost:8080/"
        },
        "id": "d1896163-d1a8-47cb-8d87-7a7e676afd78",
        "outputId": "b1d52ece-b1af-4000-d8b4-404f6fbd5a17"
      },
      "outputs": [
        {
          "output_type": "stream",
          "name": "stdout",
          "text": [
            "helo\n",
            "goobye\n"
          ]
        }
      ],
      "source": [
        "def remove_fourth_character(word):\n",
        "    return word[:3] + word[4:]\n",
        "\n",
        "print(remove_fourth_character(\"hello\"))\n",
        "print(remove_fourth_character(\"goodbye\"))"
      ]
    },
    {
      "cell_type": "markdown",
      "id": "c2e4c589-f5da-468d-8f28-fe065e0e18db",
      "metadata": {
        "id": "c2e4c589-f5da-468d-8f28-fe065e0e18db"
      },
      "source": [
        "**Q10** Implement the function `say_goodbye(name, hour)` \\\n",
        "that returns a string in the following format:\n",
        "\n",
        "`Goodbye, name. See you again at hour o'clock.`\n"
      ]
    },
    {
      "cell_type": "code",
      "execution_count": 13,
      "id": "faa0f567-0f34-42f4-9400-19e28fafe5f7",
      "metadata": {
        "colab": {
          "base_uri": "https://localhost:8080/"
        },
        "id": "faa0f567-0f34-42f4-9400-19e28fafe5f7",
        "outputId": "dd5f45d6-279f-4eea-bee1-136d47123a8b"
      },
      "outputs": [
        {
          "output_type": "stream",
          "name": "stdout",
          "text": [
            "Goodbye, John. See you again at 5 o'clock.\n"
          ]
        }
      ],
      "source": [
        "def say_goodbye(name, hour):\n",
        "    return f\"Goodbye, {name}. See you again at {hour} o'clock.\"\n",
        "\n",
        "print(say_goodbye(\"John\", \"5\"))\n"
      ]
    },
    {
      "cell_type": "code",
      "source": [],
      "metadata": {
        "id": "LcdJKplMSqXR"
      },
      "id": "LcdJKplMSqXR",
      "execution_count": null,
      "outputs": []
    }
  ],
  "metadata": {
    "kernelspec": {
      "display_name": "Python 3 (ipykernel)",
      "language": "python",
      "name": "python3"
    },
    "language_info": {
      "codemirror_mode": {
        "name": "ipython",
        "version": 3
      },
      "file_extension": ".py",
      "mimetype": "text/x-python",
      "name": "python",
      "nbconvert_exporter": "python",
      "pygments_lexer": "ipython3",
      "version": "3.11.4"
    },
    "colab": {
      "provenance": [],
      "include_colab_link": true
    }
  },
  "nbformat": 4,
  "nbformat_minor": 5
}