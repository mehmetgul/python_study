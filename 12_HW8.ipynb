{
  "cells": [
    {
      "cell_type": "markdown",
      "metadata": {
        "id": "view-in-github",
        "colab_type": "text"
      },
      "source": [
        "<a href=\"https://colab.research.google.com/github/mehmetgul/python_study/blob/main/12_HW8.ipynb\" target=\"_parent\"><img src=\"https://colab.research.google.com/assets/colab-badge.svg\" alt=\"Open In Colab\"/></a>"
      ]
    },
    {
      "cell_type": "markdown",
      "id": "77ba540a-91e6-4631-aa87-e00f811c1557",
      "metadata": {
        "id": "77ba540a-91e6-4631-aa87-e00f811c1557"
      },
      "source": [
        "**Q1** Implement the function `list_to_set(nums)`. It should\\\n",
        "take a list of integers and return a set containing the\\\n",
        "unique elements from the list. The order the elements appear\\\n",
        "in the set does not matter."
      ]
    },
    {
      "cell_type": "code",
      "execution_count": 1,
      "id": "7e096e9a-a0e7-485f-ab48-d0c49708a546",
      "metadata": {
        "colab": {
          "base_uri": "https://localhost:8080/"
        },
        "id": "7e096e9a-a0e7-485f-ab48-d0c49708a546",
        "outputId": "6ac210f4-81ba-47ed-a6f9-32a7fe842e8b"
      },
      "outputs": [
        {
          "output_type": "stream",
          "name": "stdout",
          "text": [
            "{1, 2, 3, 4, 5}\n",
            "{1, 2, 3}\n",
            "{1, 2, 3, 4, 5}\n"
          ]
        }
      ],
      "source": [
        "#your code here\n",
        "def list_to_set(nums):\n",
        "    return set(nums)\n",
        "# do not modify below this line\n",
        "print(list_to_set([1, 2, 3, 4, 5]))\n",
        "print(list_to_set([1, 1, 2, 2, 3, 3]))\n",
        "print(list_to_set([1, 2, 3, 4, 5, 5, 5, 3, 4, 5]))\n"
      ]
    },
    {
      "cell_type": "markdown",
      "id": "9a9f8a3b-57d8-40f5-9796-c45a2c991b8c",
      "metadata": {
        "id": "9a9f8a3b-57d8-40f5-9796-c45a2c991b8c"
      },
      "source": [
        "**Q2** Implement the function `count_unique_words(words)` which\\\n",
        "accepts a list of strings words and returns the number of unique\\\n",
        "words in the list. It's possible the list may be empty, in which\\\n",
        "case the function should return `0`.\n",
        "\n",
        "Hint: You can call the `len()` function on a set to get the number\\\n",
        "of elements in the set."
      ]
    },
    {
      "cell_type": "code",
      "execution_count": 2,
      "id": "4e6ad084-76ac-4646-9b16-f33dc59c9d74",
      "metadata": {
        "colab": {
          "base_uri": "https://localhost:8080/"
        },
        "id": "4e6ad084-76ac-4646-9b16-f33dc59c9d74",
        "outputId": "1eae9f81-157a-47a4-db90-1cdbe18a8ea8"
      },
      "outputs": [
        {
          "output_type": "stream",
          "name": "stdout",
          "text": [
            "3\n",
            "4\n",
            "1\n",
            "0\n"
          ]
        }
      ],
      "source": [
        "#your code here\n",
        "def count_unique_words(words):\n",
        "    return len(set(words))\n",
        "# do not modify code below this line\n",
        "print(count_unique_words([\"hello\", \"world\", \"hello\", \"goodbye\"]))\n",
        "print(count_unique_words([\"hello\", \"world\", \"i\", \"am\", \"world\"]))\n",
        "print(count_unique_words([\"hello\", \"hello\", \"hello\"]))\n",
        "print(count_unique_words([]))\n"
      ]
    },
    {
      "cell_type": "markdown",
      "id": "22b02450-d3c9-48fe-8c5a-35a0f07b7fba",
      "metadata": {
        "id": "22b02450-d3c9-48fe-8c5a-35a0f07b7fba"
      },
      "source": [
        "**Q3** Implement the function `contains_duplicate(words)`. It takes\\\n",
        "a list of strings words and returns `True` if there are any\\\n",
        "duplicate strings in the list, and `False` otherwise."
      ]
    },
    {
      "cell_type": "code",
      "execution_count": 3,
      "id": "035d0bcd-67d5-4754-bae6-52d0bfa951ef",
      "metadata": {
        "colab": {
          "base_uri": "https://localhost:8080/"
        },
        "id": "035d0bcd-67d5-4754-bae6-52d0bfa951ef",
        "outputId": "8fbbc779-ff04-40cf-d4f7-50c5568f9367"
      },
      "outputs": [
        {
          "output_type": "stream",
          "name": "stdout",
          "text": [
            "True\n",
            "False\n",
            "True\n",
            "False\n"
          ]
        }
      ],
      "source": [
        "#your code here\n",
        "def contains_duplicate(words):\n",
        "    return len(words) != len(set(words))\n",
        "# do not modify code below this line\n",
        "print(contains_duplicate([\"hello\", \"world\", \"hello\"]))\n",
        "print(contains_duplicate([\"hello\", \"world\", \"i\", \"am\", \"great\"]))\n",
        "print(contains_duplicate([\"hello\", \"hello\", \"hello\"]))\n",
        "print(contains_duplicate([\"Hello\", \"hellooo\", \"hello\"]))\n"
      ]
    },
    {
      "cell_type": "code",
      "source": [],
      "metadata": {
        "id": "m_7DH71sUrax"
      },
      "id": "m_7DH71sUrax",
      "execution_count": null,
      "outputs": []
    }
  ],
  "metadata": {
    "kernelspec": {
      "display_name": "Python 3 (ipykernel)",
      "language": "python",
      "name": "python3"
    },
    "language_info": {
      "codemirror_mode": {
        "name": "ipython",
        "version": 3
      },
      "file_extension": ".py",
      "mimetype": "text/x-python",
      "name": "python",
      "nbconvert_exporter": "python",
      "pygments_lexer": "ipython3",
      "version": "3.11.4"
    },
    "colab": {
      "provenance": [],
      "include_colab_link": true
    }
  },
  "nbformat": 4,
  "nbformat_minor": 5
}